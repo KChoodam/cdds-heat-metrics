{
 "cells": [
  {
   "cell_type": "markdown",
   "id": "d43a8d62-6dcc-4a4e-af04-a17175502084",
   "metadata": {},
   "source": [
    "### Wetbulb Temperature\n",
    "From this paper:\n",
    "https://journals.ametsoc.org/view/journals/apme/50/11/jamc-d-11-0143.1.xml"
   ]
  },
  {
   "cell_type": "code",
   "execution_count": 1,
   "id": "02818bab-136f-441f-88c8-8cf59d841c41",
   "metadata": {},
   "outputs": [],
   "source": [
    "def Wetbulb(tmp, rh):\n",
    "    wetbulb_tmp = ( tmp * np.arctan(0.151977 * (rh + 8.313659)**(1/2)) ) + np.arctan(tmp + rh) - np.arctan(rh - 1.676331) + (0.00391838 * (rh)**(3/2)) * np.arctan(0.023101 * rh) - 4.686035\n",
    "    return wetbulb_tmp"
   ]
  },
  {
   "cell_type": "code",
   "execution_count": 3,
   "id": "775687fa-b7a9-4c39-a97f-1113bf1cc069",
   "metadata": {},
   "outputs": [
    {
     "name": "stdout",
     "output_type": "stream",
     "text": [
      "13.699341968988136\n"
     ]
    }
   ],
   "source": [
    "# Validation. It should be 13.7\n",
    "import numpy as np\n",
    "\n",
    "tmp = 20\n",
    "rh = 50\n",
    "\n",
    "print(Wetbulb(tmp,rh))"
   ]
  },
  {
   "cell_type": "markdown",
   "id": "e8548174-95ac-4d0f-952d-9b23c5202ae0",
   "metadata": {},
   "source": [
    "### Heat Index\n",
    "From Maile's climate-map repository:\n",
    "* https://github.com/mailesasaki/climate_map/blob/main/calculations/calculations.py"
   ]
  },
  {
   "cell_type": "code",
   "execution_count": null,
   "id": "12577616-070d-4ca7-b520-08390dd51aa1",
   "metadata": {},
   "outputs": [],
   "source": [
    "def Heat_Index(T, RH):\n",
    "    \"\"\"\n",
    "    https://www.wpc.ncep.noaa.gov/html/heatindex_equation.shtml\n",
    "\n",
    "    Calculates heat index for an array\n",
    "    \n",
    "    Inputs:\n",
    "        RH (DataArray) - Should be in decimal format\n",
    "        T  (DataArray) - Should be in Kelvins\n",
    "        \n",
    "    Outputs:\n",
    "        hi_alone (DataArray) - Heat index array (in F)\n",
    "    \"\"\"\n",
    "    # Convert to Fahrenheit\n",
    "    T_F = ((T - 273.15) * 1.8) + 32\n",
    "\n",
    "    # Convert to relative humidity\n",
    "    RH_p = RH * 100\n",
    "    RH_p = RH_p.rename('relative_humidity')\n",
    "    \n",
    "    # Standard heat index\n",
    "    heat_index = 0.5 * (T_F + 61.0 + ((T_F-68.0)*1.2) + (RH_p*0.094))\n",
    "    heat_index = heat_index.rename('heat_index')\n",
    "\n",
    "    # Combining temperature, relative humidity, and heat index into a dataset\n",
    "    hi_set = xr.combine_by_coords((heat_index,T_F,RH_p))\n",
    "        \n",
    "    # Heat index for heat index above 80\n",
    "    heat_index_80 = (-42.379 + 2.04901523*T_F + 10.14333127*RH_p - 0.22475541*T_F*RH_p \n",
    "          - 6.83783e-3*T_F**2 - 5.481717e-2*RH_p**2 + 1.22874e-3*T_F**2*RH_p \n",
    "          + 8.5282e-4*T_F*RH_p**2 - 1.99e-6*T_F**2*RH_p**2)\n",
    "    hi_set['heat_index>80'] = heat_index_80\n",
    "    \n",
    "    # Replacing heat indices above 80 with the new equation\n",
    "    hi_set['heat_index'] = xr.where(hi_set['heat_index']>80,\n",
    "                                    hi_set['heat_index>80'],\n",
    "                                    hi_set['heat_index']\n",
    "                                    )\n",
    "    \n",
    "    # Heat index for relative humidity under 13% and temps between 80 and 112 F\n",
    "    heat_index_13 = heat_index_80 - ((13-RH_p)/4) * np.sqrt((17 - abs(T_F - 95))/17)\n",
    "    hi_set['heat_index_RH<13'] = heat_index_13\n",
    "    \n",
    "    hi_set['heat_index'] = xr.where(((hi_set['relative_humidity']<13) & \n",
    "                                         (hi_set['t2m']>80) & \n",
    "                                         (hi_set['t2m']<112)),\n",
    "                                    hi_set['heat_index_RH<13'],\n",
    "                                    hi_set['heat_index'])\n",
    "    \n",
    "    # Heat index for relative humidity over 85% and temps between 80 and 87 F\n",
    "    heat_index_85 = heat_index_80 + ((RH_p-85)/10) * ((87-T_F)/5)\n",
    "    hi_set['heat_index_RH>85'] = heat_index_85\n",
    "    hi_set['heat_index'] = xr.where(((hi_set['relative_humidity']>85) & \n",
    "                                         (hi_set['t2m']>80) & \n",
    "                                         (hi_set['t2m']<87)),\n",
    "                                    hi_set['heat_index_RH>85'],\n",
    "                                    hi_set['heat_index'])\n",
    "    \n",
    "    # Picking out the heat index dataarray alone\n",
    "    hi_alone = hi_set['heat_index']\n",
    "\n",
    "    return hi_alone"
   ]
  }
 ],
 "metadata": {
  "kernelspec": {
   "display_name": "Python 3 (ipykernel)",
   "language": "python",
   "name": "python3"
  },
  "language_info": {
   "codemirror_mode": {
    "name": "ipython",
    "version": 3
   },
   "file_extension": ".py",
   "mimetype": "text/x-python",
   "name": "python",
   "nbconvert_exporter": "python",
   "pygments_lexer": "ipython3",
   "version": "3.12.2"
  }
 },
 "nbformat": 4,
 "nbformat_minor": 5
}
